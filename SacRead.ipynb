{
 "cells": [
  {
   "cell_type": "code",
   "execution_count": 1,
   "metadata": {},
   "outputs": [],
   "source": [
    "# -*-coding:utf-8-*-\n",
    "from builtins import print\n",
    "\n",
    "import numpy as np\n",
    "import random\n",
    "import scipy.signal\n",
    "from gym.spaces import Box, Discrete, Tuple, Dict\n",
    "import copy\n",
    "import torch\n",
    "import torch.nn as nn\n",
    "from torch.distributions.normal import Normal\n",
    "from torch.distributions.categorical import Categorical\n",
    "\n",
    "import setting\n",
    "import torch.nn.functional as F\n",
    "import collections\n"
   ]
  },
  {
   "cell_type": "markdown",
   "metadata": {},
   "source": [
    "combined_shape 函数接受两个参数：length 和 shape。它返回一个表示形状的元组。\n",
    "\n",
    "如果 shape 参数为 None，则返回一个只包含 length 元素的元组 (length,)。\n",
    "\n",
    "如果 shape 参数不为 None，则根据 shape 的类型进行处理：\n",
    "\n",
    "如果 shape 是一个标量（即单个数值），则返回一个包含两个元素的元组 (length, shape)。\n",
    "如果 shape 是一个数组或元组，则返回一个元组，其中第一个元素是 length，后面是 shape 中的所有元素。也就是说，返回的元组的长度是 len(shape) + 1。"
   ]
  },
  {
   "cell_type": "code",
   "execution_count": null,
   "metadata": {},
   "outputs": [],
   "source": [
    "def combined_shape(length, shape=None):\n",
    "    if shape is None:\n",
    "        return (length,)\n",
    "    return (length, shape) if np.isscalar(shape) else (length, *shape)"
   ]
  },
  {
   "cell_type": "code",
   "execution_count": 1,
   "metadata": {},
   "outputs": [
    {
     "name": "stdout",
     "output_type": "stream",
     "text": [
      "input is tensor([[-0.0918, -0.6246,  1.7328,  2.1930,  1.3417],\n",
      "        [-0.2208,  0.8075, -2.2837, -1.5291,  0.6344]], requires_grad=True)\n",
      "target is tensor([[ 0.8763,  0.4612, -2.1469, -0.0677, -1.0423],\n",
      "        [ 0.7029,  0.5815,  0.9543,  0.8691,  1.9682]])\n"
     ]
    }
   ],
   "source": [
    "import torch\n",
    "import torch.nn as nn\n",
    "import math\n",
    "import numpy as np\n",
    "#默认求的是平均值、\n",
    "\n",
    "input = torch.randn(2, 5, requires_grad=True)#预测值\n",
    "target = torch.randn(2, 5)#真值\n",
    "print('input is', input)\n",
    "print('target is', target)\n"
   ]
  },
  {
   "cell_type": "code",
   "execution_count": null,
   "metadata": {},
   "outputs": [],
   "source": [
    "action_one_hot = action_one_hot.squeeze().cpu().detach().numpy()"
   ]
  }
 ],
 "metadata": {
  "kernelspec": {
   "display_name": "base",
   "language": "python",
   "name": "python3"
  },
  "language_info": {
   "codemirror_mode": {
    "name": "ipython",
    "version": 3
   },
   "file_extension": ".py",
   "mimetype": "text/x-python",
   "name": "python",
   "nbconvert_exporter": "python",
   "pygments_lexer": "ipython3",
   "version": "3.10.9"
  }
 },
 "nbformat": 4,
 "nbformat_minor": 2
}
